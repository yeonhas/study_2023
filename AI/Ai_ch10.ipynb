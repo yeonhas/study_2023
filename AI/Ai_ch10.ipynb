{
  "nbformat": 4,
  "nbformat_minor": 0,
  "metadata": {
    "colab": {
      "provenance": [],
      "authorship_tag": "ABX9TyMAkvXBcaXsAbdOpyNruLlL",
      "include_colab_link": true
    },
    "kernelspec": {
      "name": "python3",
      "display_name": "Python 3"
    },
    "language_info": {
      "name": "python"
    }
  },
  "cells": [
    {
      "cell_type": "markdown",
      "metadata": {
        "id": "view-in-github",
        "colab_type": "text"
      },
      "source": [
        "<a href=\"https://colab.research.google.com/github/yeonhas/study_2023/blob/main/AI/Ai_ch10.ipynb\" target=\"_parent\"><img src=\"https://colab.research.google.com/assets/colab-badge.svg\" alt=\"Open In Colab\"/></a>"
      ]
    },
    {
      "cell_type": "code",
      "execution_count": null,
      "metadata": {
        "id": "TUu9ROGWRZIk"
      },
      "outputs": [],
      "source": [
        "# 판다스 라이브러리를 사용해 데이터 읽고 numpy 배열로 변환\n",
        "import pandas as pd\n",
        "import numpy as np\n",
        "data = pd.read_csv('./sample_data/mnist_train_small.csv', header=None)\n",
        "data = np.array(data)"
      ]
    },
    {
      "cell_type": "code",
      "source": [
        "y_train = data[:,1:]\n",
        "x_train = data[:,0]\n",
        "y_train = y_train.reshape(-1,28,28)"
      ],
      "metadata": {
        "id": "MzGncCLsRrt9"
      },
      "execution_count": null,
      "outputs": []
    },
    {
      "cell_type": "code",
      "source": [
        "import matplotlib.pyplot as plt\n",
        "plt.imshow(y_train[1,:,:])\n",
        "x_train[1]"
      ],
      "metadata": {
        "colab": {
          "base_uri": "https://localhost:8080/",
          "height": 448
        },
        "id": "aQEeDliTR326",
        "outputId": "d5b5c94c-33e6-4621-b810-a22b66a5ac20"
      },
      "execution_count": null,
      "outputs": [
        {
          "output_type": "execute_result",
          "data": {
            "text/plain": [
              "5"
            ]
          },
          "metadata": {},
          "execution_count": 5
        },
        {
          "output_type": "display_data",
          "data": {
            "text/plain": [
              "<Figure size 640x480 with 1 Axes>"
            ],
            "image/png": "[encoded data removed]"
          },
          "metadata": {}
        }
      ]
    },
    {
      "cell_type": "code",
      "source": [
        "import tensorflow.keras as keras\n",
        "\n",
        "x_train = keras.utils.to_categorical(x_train)\n",
        "y_train = y_train/255"
      ],
      "metadata": {
        "id": "2xuRalHKSFZC"
      },
      "execution_count": null,
      "outputs": []
    },
    {
      "cell_type": "code",
      "source": [
        "from keras.models import Sequential\n",
        "from keras import layers\n",
        "from keras import optimizers\n",
        "\n",
        "model = Sequential()\n",
        "model.add(layers.Dense(units=3136, input_shape=(10,),activation='relu'))\n",
        "model.add(layers.Reshape((7,7,64)))\n",
        "model.add(layers.UpSampling2D((2,2)))\n",
        "model.add(layers.Conv2D(filters=16, kernel_size=3, padding='same', activation='relu'))\n",
        "model.add(layers.UpSampling2D((2,2)))\n",
        "model.add(layers.Conv2D(filters=32, kernel_size=3, padding='same', activation='relu'))\n",
        "model.add(layers.Conv2D(filters=1, kernel_size=3, padding='same', activation='sigmoid'))\n",
        "model.compile(loss='mean_squared_error', optimizer = optimizers.RMSprop(learning_rate=0.001), metrics=['accuracy'])"
      ],
      "metadata": {
        "id": "loAimEuYSTXg"
      },
      "execution_count": null,
      "outputs": []
    },
    {
      "cell_type": "code",
      "source": [
        "model.build()\n",
        "model.summary()"
      ],
      "metadata": {
        "colab": {
          "base_uri": "https://localhost:8080/"
        },
        "id": "QgiRlT0HTxGi",
        "outputId": "d43d25e8-50cd-499d-c52c-07b4630605d5"
      },
      "execution_count": null,
      "outputs": [
        {
          "output_type": "stream",
          "name": "stdout",
          "text": [
            "Model: \"sequential_1\"\n",
            "_________________________________________________________________\n",
            " Layer (type)                Output Shape              Param #   \n",
            "=================================================================\n",
            " dense_1 (Dense)             (None, 3136)              34496     \n",
            "                                                                 \n",
            " reshape_1 (Reshape)         (None, 7, 7, 64)          0         \n",
            "                                                                 \n",
            " up_sampling2d_2 (UpSampling  (None, 14, 14, 64)       0         \n",
            " 2D)                                                             \n",
            "                                                                 \n",
            " conv2d_2 (Conv2D)           (None, 14, 14, 16)        9232      \n",
            "                                                                 \n",
            " up_sampling2d_3 (UpSampling  (None, 28, 28, 16)       0         \n",
            " 2D)                                                             \n",
            "                                                                 \n",
            " conv2d_3 (Conv2D)           (None, 28, 28, 32)        4640      \n",
            "                                                                 \n",
            " conv2d_4 (Conv2D)           (None, 28, 28, 1)         289       \n",
            "                                                                 \n",
            "=================================================================\n",
            "Total params: 48,657\n",
            "Trainable params: 48,657\n",
            "Non-trainable params: 0\n",
            "_________________________________________________________________\n"
          ]
        }
      ]
    },
    {
      "cell_type": "code",
      "source": [
        "hist = model.fit(x_train, y_train, epochs = 10, batch_size = 64, validation_split = 0.3)"
      ],
      "metadata": {
        "colab": {
          "base_uri": "https://localhost:8080/"
        },
        "id": "ROsZ3gV1UCsq",
        "outputId": "0cbf8752-2c34-45bf-d718-cf3cbff955c1"
      },
      "execution_count": null,
      "outputs": [
        {
          "output_type": "stream",
          "name": "stdout",
          "text": [
            "Epoch 1/10\n",
            "219/219 [==============================] - 77s 349ms/step - loss: 0.0597 - accuracy: 0.7928 - val_loss: 0.0553 - val_accuracy: 0.8003\n",
            "Epoch 2/10\n",
            "219/219 [==============================] - 55s 251ms/step - loss: 0.0542 - accuracy: 0.7916 - val_loss: 0.0536 - val_accuracy: 0.7955\n",
            "Epoch 3/10\n",
            "219/219 [==============================] - 54s 247ms/step - loss: 0.0540 - accuracy: 0.7923 - val_loss: 0.0534 - val_accuracy: 0.7963\n",
            "Epoch 4/10\n",
            "219/219 [==============================] - 55s 253ms/step - loss: 0.0538 - accuracy: 0.7927 - val_loss: 0.0535 - val_accuracy: 0.7962\n",
            "Epoch 5/10\n",
            "219/219 [==============================] - 62s 282ms/step - loss: 0.0538 - accuracy: 0.7929 - val_loss: 0.0534 - val_accuracy: 0.7962\n",
            "Epoch 6/10\n",
            "219/219 [==============================] - 57s 263ms/step - loss: 0.0537 - accuracy: 0.7931 - val_loss: 0.0534 - val_accuracy: 0.7929\n",
            "Epoch 7/10\n",
            "219/219 [==============================] - 55s 250ms/step - loss: 0.0537 - accuracy: 0.7932 - val_loss: 0.0534 - val_accuracy: 0.7933\n",
            "Epoch 8/10\n",
            "219/219 [==============================] - 55s 250ms/step - loss: 0.0537 - accuracy: 0.7932 - val_loss: 0.0535 - val_accuracy: 0.7980\n",
            "Epoch 9/10\n",
            "219/219 [==============================] - 55s 251ms/step - loss: 0.0536 - accuracy: 0.7934 - val_loss: 0.0533 - val_accuracy: 0.7950\n",
            "Epoch 10/10\n",
            "219/219 [==============================] - 51s 234ms/step - loss: 0.0536 - accuracy: 0.7933 - val_loss: 0.0534 - val_accuracy: 0.7924\n"
          ]
        }
      ]
    },
    {
      "cell_type": "code",
      "source": [
        "test_d = np.zeros((1,10))\n",
        "test_d[0,4] = 1\n",
        "o = model.predict(test_d)"
      ],
      "metadata": {
        "colab": {
          "base_uri": "https://localhost:8080/"
        },
        "id": "-Kbq3HO2UYih",
        "outputId": "62416629-5a28-47df-885e-d3d40997a8b4"
      },
      "execution_count": null,
      "outputs": [
        {
          "output_type": "stream",
          "name": "stdout",
          "text": [
            "1/1 [==============================] - 0s 121ms/step\n"
          ]
        }
      ]
    },
    {
      "cell_type": "code",
      "source": [
        "im = o.reshape((28,28))\n",
        "plt.imshow(im)"
      ],
      "metadata": {
        "colab": {
          "base_uri": "https://localhost:8080/",
          "height": 448
        },
        "id": "G4hBpxRsVkAr",
        "outputId": "9dbe522e-08c1-4e2f-8ace-8030bad17c48"
      },
      "execution_count": null,
      "outputs": [
        {
          "output_type": "execute_result",
          "data": {
            "text/plain": [
              "<matplotlib.image.AxesImage at 0x7f7c5657cf70>"
            ]
          },
          "metadata": {},
          "execution_count": 17
        },
        {
          "output_type": "display_data",
          "data": {
            "text/plain": [
              "<Figure size 640x480 with 1 Axes>"
            ],
            "image/png": "[encoded data removed]"
          },
          "metadata": {}
        }
      ]
    },
    {
      "cell_type": "code",
      "source": [
        "test_d = np.zeros((1,10))\n",
        "test_d[0,8] = 1\n",
        "o = model.predict(test_d)"
      ],
      "metadata": {
        "colab": {
          "base_uri": "https://localhost:8080/"
        },
        "id": "R41BkbYRZwaQ",
        "outputId": "792ac42c-fe59-4ed8-cb18-5b3b6a932027"
      },
      "execution_count": null,
      "outputs": [
        {
          "output_type": "stream",
          "name": "stdout",
          "text": [
            "1/1 [==============================] - 0s 23ms/step\n"
          ]
        }
      ]
    },
    {
      "cell_type": "code",
      "source": [
        "im = o.reshape((28,28))\n",
        "plt.imshow(im)"
      ],
      "metadata": {
        "colab": {
          "base_uri": "https://localhost:8080/",
          "height": 448
        },
        "id": "DreMJNvVZ2Xp",
        "outputId": "30d61c70-5724-4b69-eac5-03ed115432a4"
      },
      "execution_count": null,
      "outputs": [
        {
          "output_type": "execute_result",
          "data": {
            "text/plain": [
              "<matplotlib.image.AxesImage at 0x7f7c565de020>"
            ]
          },
          "metadata": {},
          "execution_count": 19
        },
        {
          "output_type": "display_data",
          "data": {
            "text/plain": [
              "<Figure size 640x480 with 1 Axes>"
            ],
            "image/png": "[encoded data removed]"
          },
          "metadata": {}
        }
      ]
    },
    {
      "cell_type": "markdown",
      "source": [],
      "metadata": {
        "id": "tmZ6YIe8ZwPx"
      }
    }
  ]
}