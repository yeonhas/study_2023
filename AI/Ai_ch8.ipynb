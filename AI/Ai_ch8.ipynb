{
  "nbformat": 4,
  "nbformat_minor": 0,
  "metadata": {
    "colab": {
      "provenance": [],
      "authorship_tag": "ABX9TyMAlTmECXqDwMudKJQB3hMm",
      "include_colab_link": true
    },
    "kernelspec": {
      "name": "python3",
      "display_name": "Python 3"
    },
    "language_info": {
      "name": "python"
    }
  },
  "cells": [
    {
      "cell_type": "markdown",
      "metadata": {
        "id": "view-in-github",
        "colab_type": "text"
      },
      "source": [
        "<a href=\"https://colab.research.google.com/github/yeonhas/study_2023/blob/main/AI/Ai_ch8.ipynb\" target=\"_parent\"><img src=\"https://colab.research.google.com/assets/colab-badge.svg\" alt=\"Open In Colab\"/></a>"
      ]
    },
    {
      "cell_type": "code",
      "execution_count": null,
      "metadata": {
        "colab": {
          "base_uri": "https://localhost:8080/"
        },
        "id": "2G2qdztOW3uz",
        "outputId": "6a62e854-4982-4d74-8144-4711f65dd691"
      },
      "outputs": [
        {
          "output_type": "stream",
          "name": "stdout",
          "text": [
            "Drive already mounted at /content/gdrive; to attempt to forcibly remount, call drive.mount(\"/content/gdrive\", force_remount=True).\n"
          ]
        }
      ],
      "source": [
        "from google.colab import drive\n",
        "drive.mount('/content/gdrive')"
      ]
    },
    {
      "cell_type": "code",
      "source": [
        "import matplotlib.pyplot as plt\n",
        "import numpy as np\n",
        "import pandas as pd\n",
        "data_no = pd.read_csv('/content/gdrive/MyDrive/ECG_HC/ptbdb_normal.csv')\n",
        "data_ab = pd.read_csv('/content/gdrive/MyDrive/ECG_HC/ptbdb_abnormal.csv')\n",
        "\n",
        "data_no = np.array(data_no)\n",
        "data_ab = np.array(data_ab)"
      ],
      "metadata": {
        "id": "6IP8MWDAXHir"
      },
      "execution_count": null,
      "outputs": []
    },
    {
      "cell_type": "code",
      "source": [
        "data_no.shape"
      ],
      "metadata": {
        "colab": {
          "base_uri": "https://localhost:8080/"
        },
        "id": "8kZmUTAbZoGZ",
        "outputId": "5d7867bf-613c-4ffe-bfc3-3430ea606511"
      },
      "execution_count": null,
      "outputs": [
        {
          "output_type": "execute_result",
          "data": {
            "text/plain": [
              "(4045, 188)"
            ]
          },
          "metadata": {},
          "execution_count": 3
        }
      ]
    },
    {
      "cell_type": "code",
      "source": [
        "plt.plot(data_no[0,:])"
      ],
      "metadata": {
        "colab": {
          "base_uri": "https://localhost:8080/",
          "height": 448
        },
        "id": "Ubo4M5JqZqLx",
        "outputId": "d5b30be7-599b-40bb-9d91-cd559f50fe76"
      },
      "execution_count": null,
      "outputs": [
        {
          "output_type": "execute_result",
          "data": {
            "text/plain": [
              "[<matplotlib.lines.Line2D at 0x7fc64a815930>]"
            ]
          },
          "metadata": {},
          "execution_count": 4
        },
        {
          "output_type": "display_data",
          "data": {
            "text/plain": [
              "<Figure size 640x480 with 1 Axes>"
            ],
            "image/png": "[encoded data removed]"
          },
          "metadata": {}
        }
      ]
    },
    {
      "cell_type": "code",
      "source": [
        "nTrain = 3000\n",
        "nTest = 1000\n",
        "x_train = np.concatenate((data_no[:nTrain,:], data_ab[:nTrain,:]), 0)\n",
        "y_train = np.concatenate((np.zeros(nTrain,), np.ones(nTrain,)),0)\n",
        "x_test = np.concatenate((data_no[nTrain:nTrain+nTest,:], data_ab[nTrain:nTrain+nTest,:]), 0)\n",
        "y_test = np.concatenate((np.zeros(nTest,), np.ones(nTest,)),0)\n",
        "\n",
        "from tensorflow.keras.utils import to_categorical\n",
        "from tensorflow.keras import Sequential\n",
        "from tensorflow.keras import layers\n",
        "from tensorflow.keras import optimizers\n",
        "y_test = to_categorical(y_test)\n",
        "y_train = to_categorical(y_train)\n",
        "x_train = np.expand_dims(x_train,-1)\n",
        "x_test = np.expand_dims(x_test,-1)"
      ],
      "metadata": {
        "id": "jppEUM9yZs1R"
      },
      "execution_count": null,
      "outputs": []
    },
    {
      "cell_type": "code",
      "source": [
        "model = Sequential()\n",
        "model.add(layers.Conv1D(filters=16, kernel_size=3, input_shape=(x_train.shape[1],1), activation='relu'))\n",
        "model.add(layers.Conv1D(filters=16, kernel_size=3, activation='relu'))\n",
        "model.add(layers.MaxPooling1D(pool_size=3, strides=2))\n",
        "model.add(layers.Conv1D(filters=32, kernel_size=3, input_shape=(x_train.shape[1],1), activation='relu'))\n",
        "model.add(layers.Conv1D(filters=32, kernel_size=3, activation='relu'))\n",
        "model.add(layers.MaxPooling1D(pool_size=3, strides=2))\n",
        "model.add(layers.LSTM(16))\n",
        "model.add(layers.Dense(units=2, activation='softmax'))\n",
        "model.compile(loss='categorical_crossentropy', optimizer = optimizers.Adam(learning_rate=0.01), metrics=['accuracy'])"
      ],
      "metadata": {
        "id": "Omkvi2_xbjoC"
      },
      "execution_count": null,
      "outputs": []
    },
    {
      "cell_type": "code",
      "source": [
        "model.fit(x_train, y_train, epochs = 50, batch_size=128, validation_split=0.2)"
      ],
      "metadata": {
        "colab": {
          "base_uri": "https://localhost:8080/"
        },
        "id": "FcCrymO2fHEG",
        "outputId": "09f26754-e25f-4a81-dba1-d6603715f971"
      },
      "execution_count": null,
      "outputs": [
        {
          "output_type": "stream",
          "name": "stdout",
          "text": [
            "Epoch 1/50\n",
            "38/38 [==============================] - 7s 100ms/step - loss: 0.6480 - accuracy: 0.6335 - val_loss: 0.9982 - val_accuracy: 0.3617\n",
            "Epoch 2/50\n",
            "38/38 [==============================] - 4s 103ms/step - loss: 0.5907 - accuracy: 0.7073 - val_loss: 0.8350 - val_accuracy: 0.5167\n",
            "Epoch 3/50\n",
            "38/38 [==============================] - 3s 70ms/step - loss: 0.5820 - accuracy: 0.7092 - val_loss: 0.8318 - val_accuracy: 0.4992\n",
            "Epoch 4/50\n",
            "38/38 [==============================] - 3s 68ms/step - loss: 0.5691 - accuracy: 0.7208 - val_loss: 1.0257 - val_accuracy: 0.3050\n",
            "Epoch 5/50\n",
            "38/38 [==============================] - 2s 66ms/step - loss: 0.5642 - accuracy: 0.7167 - val_loss: 0.9789 - val_accuracy: 0.4250\n",
            "Epoch 6/50\n",
            "38/38 [==============================] - 5s 134ms/step - loss: 0.5709 - accuracy: 0.7102 - val_loss: 0.8889 - val_accuracy: 0.3825\n",
            "Epoch 7/50\n",
            "38/38 [==============================] - 5s 129ms/step - loss: 0.5568 - accuracy: 0.7225 - val_loss: 0.8914 - val_accuracy: 0.4950\n",
            "Epoch 8/50\n",
            "38/38 [==============================] - 3s 88ms/step - loss: 0.5535 - accuracy: 0.7252 - val_loss: 0.9424 - val_accuracy: 0.3767\n",
            "Epoch 9/50\n",
            "38/38 [==============================] - 3s 69ms/step - loss: 0.5442 - accuracy: 0.7258 - val_loss: 0.7798 - val_accuracy: 0.5317\n",
            "Epoch 10/50\n",
            "38/38 [==============================] - 3s 66ms/step - loss: 0.5489 - accuracy: 0.7200 - val_loss: 0.8678 - val_accuracy: 0.4267\n",
            "Epoch 11/50\n",
            "38/38 [==============================] - 4s 114ms/step - loss: 0.5438 - accuracy: 0.7269 - val_loss: 0.7917 - val_accuracy: 0.4300\n",
            "Epoch 12/50\n",
            "38/38 [==============================] - 3s 70ms/step - loss: 0.5358 - accuracy: 0.7315 - val_loss: 0.8630 - val_accuracy: 0.3592\n",
            "Epoch 13/50\n",
            "38/38 [==============================] - 3s 66ms/step - loss: 0.5294 - accuracy: 0.7337 - val_loss: 0.9416 - val_accuracy: 0.3350\n",
            "Epoch 14/50\n",
            "38/38 [==============================] - 3s 70ms/step - loss: 0.5351 - accuracy: 0.7340 - val_loss: 0.8154 - val_accuracy: 0.4333\n",
            "Epoch 15/50\n",
            "38/38 [==============================] - 3s 75ms/step - loss: 0.5300 - accuracy: 0.7352 - val_loss: 0.7639 - val_accuracy: 0.5042\n",
            "Epoch 16/50\n",
            "38/38 [==============================] - 4s 110ms/step - loss: 0.5184 - accuracy: 0.7417 - val_loss: 0.7641 - val_accuracy: 0.3658\n",
            "Epoch 17/50\n",
            "38/38 [==============================] - 3s 70ms/step - loss: 0.5244 - accuracy: 0.7381 - val_loss: 1.0814 - val_accuracy: 0.2717\n",
            "Epoch 18/50\n",
            "38/38 [==============================] - 3s 69ms/step - loss: 0.5167 - accuracy: 0.7350 - val_loss: 0.9377 - val_accuracy: 0.3508\n",
            "Epoch 19/50\n",
            "38/38 [==============================] - 3s 70ms/step - loss: 0.4855 - accuracy: 0.7650 - val_loss: 0.7600 - val_accuracy: 0.4858\n",
            "Epoch 20/50\n",
            "38/38 [==============================] - 3s 81ms/step - loss: 0.5046 - accuracy: 0.7513 - val_loss: 0.8971 - val_accuracy: 0.5550\n",
            "Epoch 21/50\n",
            "38/38 [==============================] - 4s 101ms/step - loss: 0.5587 - accuracy: 0.7219 - val_loss: 0.7305 - val_accuracy: 0.5892\n",
            "Epoch 22/50\n",
            "38/38 [==============================] - 2s 65ms/step - loss: 0.5324 - accuracy: 0.7317 - val_loss: 0.7812 - val_accuracy: 0.5842\n",
            "Epoch 23/50\n",
            "38/38 [==============================] - 3s 68ms/step - loss: 0.5204 - accuracy: 0.7352 - val_loss: 0.7568 - val_accuracy: 0.5025\n",
            "Epoch 24/50\n",
            "38/38 [==============================] - 2s 65ms/step - loss: 0.5185 - accuracy: 0.7379 - val_loss: 0.8520 - val_accuracy: 0.3817\n",
            "Epoch 25/50\n",
            "38/38 [==============================] - 3s 79ms/step - loss: 0.5117 - accuracy: 0.7402 - val_loss: 0.7291 - val_accuracy: 0.5242\n",
            "Epoch 26/50\n",
            "38/38 [==============================] - 4s 101ms/step - loss: 0.4866 - accuracy: 0.7677 - val_loss: 0.6361 - val_accuracy: 0.6800\n",
            "Epoch 27/50\n",
            "38/38 [==============================] - 3s 69ms/step - loss: 0.4938 - accuracy: 0.7596 - val_loss: 0.7197 - val_accuracy: 0.6092\n",
            "Epoch 28/50\n",
            "38/38 [==============================] - 3s 69ms/step - loss: 0.4782 - accuracy: 0.7754 - val_loss: 0.7771 - val_accuracy: 0.5808\n",
            "Epoch 29/50\n",
            "38/38 [==============================] - 3s 76ms/step - loss: 0.4655 - accuracy: 0.7892 - val_loss: 0.5762 - val_accuracy: 0.6692\n",
            "Epoch 30/50\n",
            "38/38 [==============================] - 3s 90ms/step - loss: 0.4525 - accuracy: 0.7998 - val_loss: 0.8605 - val_accuracy: 0.5625\n",
            "Epoch 31/50\n",
            "38/38 [==============================] - 3s 91ms/step - loss: 0.4280 - accuracy: 0.8135 - val_loss: 0.7221 - val_accuracy: 0.6058\n",
            "Epoch 32/50\n",
            "38/38 [==============================] - 2s 66ms/step - loss: 0.4209 - accuracy: 0.8125 - val_loss: 0.5729 - val_accuracy: 0.6850\n",
            "Epoch 33/50\n",
            "38/38 [==============================] - 3s 67ms/step - loss: 0.3911 - accuracy: 0.8304 - val_loss: 0.6629 - val_accuracy: 0.6683\n",
            "Epoch 34/50\n",
            "38/38 [==============================] - 3s 67ms/step - loss: 0.3601 - accuracy: 0.8479 - val_loss: 0.8619 - val_accuracy: 0.6175\n",
            "Epoch 35/50\n",
            "38/38 [==============================] - 3s 89ms/step - loss: 0.3751 - accuracy: 0.8358 - val_loss: 0.4960 - val_accuracy: 0.7533\n",
            "Epoch 36/50\n",
            "38/38 [==============================] - 4s 97ms/step - loss: 0.3448 - accuracy: 0.8529 - val_loss: 0.5468 - val_accuracy: 0.7300\n",
            "Epoch 37/50\n",
            "38/38 [==============================] - 3s 70ms/step - loss: 0.3297 - accuracy: 0.8600 - val_loss: 0.4097 - val_accuracy: 0.8058\n",
            "Epoch 38/50\n",
            "38/38 [==============================] - 3s 67ms/step - loss: 0.3033 - accuracy: 0.8806 - val_loss: 0.6651 - val_accuracy: 0.7333\n",
            "Epoch 39/50\n",
            "38/38 [==============================] - 3s 67ms/step - loss: 0.2948 - accuracy: 0.8833 - val_loss: 0.2976 - val_accuracy: 0.8683\n",
            "Epoch 40/50\n",
            "38/38 [==============================] - 4s 97ms/step - loss: 0.3201 - accuracy: 0.8702 - val_loss: 0.6021 - val_accuracy: 0.7075\n",
            "Epoch 41/50\n",
            "38/38 [==============================] - 3s 87ms/step - loss: 0.2752 - accuracy: 0.8940 - val_loss: 0.5510 - val_accuracy: 0.7717\n",
            "Epoch 42/50\n",
            "38/38 [==============================] - 3s 67ms/step - loss: 0.3009 - accuracy: 0.8785 - val_loss: 0.5515 - val_accuracy: 0.7458\n",
            "Epoch 43/50\n",
            "38/38 [==============================] - 3s 68ms/step - loss: 0.2854 - accuracy: 0.8929 - val_loss: 0.3663 - val_accuracy: 0.8517\n",
            "Epoch 44/50\n",
            "38/38 [==============================] - 3s 69ms/step - loss: 0.3008 - accuracy: 0.8796 - val_loss: 0.3846 - val_accuracy: 0.8308\n",
            "Epoch 45/50\n",
            "38/38 [==============================] - 4s 104ms/step - loss: 0.3767 - accuracy: 0.8425 - val_loss: 0.5366 - val_accuracy: 0.7650\n",
            "Epoch 46/50\n",
            "38/38 [==============================] - 3s 78ms/step - loss: 0.2853 - accuracy: 0.8850 - val_loss: 0.5081 - val_accuracy: 0.8042\n",
            "Epoch 47/50\n",
            "38/38 [==============================] - 2s 65ms/step - loss: 0.2796 - accuracy: 0.8892 - val_loss: 0.2840 - val_accuracy: 0.8700\n",
            "Epoch 48/50\n",
            "35/38 [==========================>...] - ETA: 0s - loss: 0.2751 - accuracy: 0.8969"
          ]
        }
      ]
    },
    {
      "cell_type": "code",
      "source": [
        "o = model.predict(x_test)\n",
        "o = np.argmax(o,1)\n",
        "y_test = np.argmax(y_test,1)\n",
        "sum(np.equal(y_test,o))/len(y_test)"
      ],
      "metadata": {
        "colab": {
          "base_uri": "https://localhost:8080/"
        },
        "id": "qh2O1D6feAAf",
        "outputId": "864d3357-cb56-4d26-c45f-4332333c0da8"
      },
      "execution_count": null,
      "outputs": [
        {
          "output_type": "stream",
          "name": "stdout",
          "text": [
            "63/63 [==============================] - 2s 13ms/step\n"
          ]
        },
        {
          "output_type": "execute_result",
          "data": {
            "text/plain": [
              "array([0.5045, 0.5045, 0.5045, ..., 0.5045, 0.5045, 0.5045])"
            ]
          },
          "metadata": {},
          "execution_count": 8
        }
      ]
    }
  ]
}